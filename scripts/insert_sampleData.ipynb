{
    "metadata": {
        "kernelspec": {
            "name": "SQL",
            "display_name": "SQL",
            "language": "sql"
        },
        "language_info": {
            "name": "sql",
            "version": ""
        }
    },
    "nbformat_minor": 2,
    "nbformat": 4,
    "cells": [
        {
            "cell_type": "code",
            "source": [
                "-- Inserting 50 sample employees with valid password lengths\r\n",
                "INSERT INTO Employee (Employee_Id, Employee_Name, Email, Manager_Id, Login_Password)\r\n",
                "VALUES\r\n",
                "('EMP000001', 'Alice Johnson', 'alice.johnson@email.com', NULL, 'Pass@1234'),        -- 9 chars\r\n",
                "('EMP000002', 'Bob Smith', 'bob.smith@email.com', 'EMP000001', 'Secure#456'),        -- 10 chars\r\n",
                "('EMP000003', 'Charlie Brown', 'charlie.brown@email.com', 'EMP000001', 'Test@12345'), -- 10 chars\r\n",
                "('EMP000004', 'Diana Prince', 'diana.prince@email.com', 'EMP000002', 'Wonder#7890'), -- 11 chars\r\n",
                "('EMP000005', 'Eve Adams', 'eve.adams@email.com', 'EMP000002', 'Strong#5678'),       -- 11 chars\r\n",
                "('EMP000006', 'Frank Castle', 'frank.castle@email.com', 'EMP000001', 'Punisher@32'), -- 12 chars\r\n",
                "('EMP000007', 'Grace Kelly', 'grace.kelly@email.com', 'EMP000003', 'Grace@9999'),    -- 10 chars\r\n",
                "('EMP000008', 'Harry Potter', 'harry.potter@email.com', 'EMP000003', 'Magic@12345'), -- 11 chars\r\n",
                "('EMP000009', 'Ivy Green', 'ivy.green@email.com', 'EMP000004', 'Ivy@Strong123'),     -- 12 chars\r\n",
                "('EMP000010', 'Jake Peralta', 'jake.peralta@email.com', 'EMP000004', 'Cool@Pass999'),-- 12 chars\r\n",
                "('EMP000011', 'Kim Possible', 'kim.possible@email.com', 'EMP000005', 'Possible@123'),-- 12 chars\r\n",
                "('EMP000012', 'Leo Messi', 'leo.messi@email.com', 'EMP000005', 'Soccer@45678'),      -- 11 chars\r\n",
                "('EMP000013', 'Mona Lisa', 'mona.lisa@email.com', 'EMP000006', 'Smile@789456'),      -- 12 chars\r\n",
                "('EMP000014', 'Nancy Drew', 'nancy.drew@email.com', 'EMP000006', 'Detective#321'),   -- 12 chars\r\n",
                "('EMP000015', 'Oliver Queen', 'oliver.queen@email.com', 'EMP000007', 'Arrow@123456'),-- 12 chars\r\n",
                "('EMP000016', 'Peter Parker', 'peter.parker@email.com', 'EMP000007', 'Spidey@9999'), -- 11 chars\r\n",
                "('EMP000017', 'Quincy Adams', 'quincy.adams@email.com', 'EMP000008', 'QPass#67890'), -- 11 chars\r\n",
                "('EMP000018', 'Rachel Green', 'rachel.green@email.com', 'EMP000008', 'Fashion#1234'),-- 12 chars\r\n",
                "('EMP000019', 'Steve Rogers', 'steve.rogers@email.com', 'EMP000009', 'Cap@4567890'), -- 11 chars\r\n",
                "('EMP000020', 'Tony Stark', 'tony.stark@email.com', 'EMP000009', 'Ironman#32145'),   -- 12 chars\r\n",
                "('EMP000021', 'Uma Thurman', 'uma.thurman@email.com', 'EMP000010', 'Actress@1111'),  -- 12 chars\r\n",
                "('EMP000022', 'Victor Stone', 'victor.stone@email.com', 'EMP000010', 'Cyborg#45678'),-- 12 chars\r\n",
                "('EMP000023', 'Wade Wilson', 'wade.wilson@email.com', 'EMP000011', 'Deadpool@7890'), -- 12 chars\r\n",
                "('EMP000024', 'Xander Cage', 'xander.cage@email.com', 'EMP000011', 'XXX#12345678'),  -- 12 chars\r\n",
                "('EMP000025', 'Yara Greyjoy', 'yara.greyjoy@email.com', 'EMP000012', 'Ironborn@3214'),-- 12 chars\r\n",
                "('EMP000026', 'Zara Khan', 'zara.khan@email.com', 'EMP000012', 'Zara@999999'),       -- 10 chars\r\n",
                "('EMP000027', 'Liam Neeson', 'liam.neeson@email.com', 'EMP000013', 'Taken@456789'),  -- 11 chars\r\n",
                "('EMP000028', 'Natalie Portman', 'natalie.portman@email.com', 'EMP000013', 'Thor@789456'), -- 12 chars\r\n",
                "('EMP000029', 'Oscar Isaac', 'oscar.isaac@email.com', 'EMP000014', 'Moon#12345678'), -- 12 chars\r\n",
                "('EMP000030', 'Pam Beesly', 'pam.beesly@email.com', 'EMP000014', 'Office@1234567'),  -- 12 chars\r\n",
                "('EMP000031', 'Ron Swanson', 'ron.swanson@email.com', 'EMP000015', 'Meat@789456'),   -- 12 chars\r\n",
                "('EMP000032', 'Stan Lee', 'stan.lee@email.com', 'EMP000015', 'Marvel#321456'),       -- 12 chars\r\n",
                "('EMP000033', 'Thor Odinson', 'thor.odinson@email.com', 'EMP000016', 'Hammer#12345'),-- 12 chars\r\n",
                "('EMP000034', 'Ursula Andress', 'ursula.andress@email.com', 'EMP000016', 'Bond@456789'), -- 12 chars\r\n",
                "('EMP000035', 'Vanessa Hudgens', 'vanessa.hudgens@email.com', 'EMP000017', 'Music@123456'),-- 12 chars\r\n",
                "('EMP000036', 'Will Smith', 'will.smith@email.com', 'EMP000017', 'Actor#12345678'),   -- 12 chars\r\n",
                "('EMP000037', 'Xenia Onatopp', 'xenia.onatopp@email.com', 'EMP000018', 'Spy#456789'), -- 12 chars\r\n",
                "('EMP000038', 'Yvonne Strahovski', 'yvonne.strahovski@email.com', 'EMP000018', 'Chuck@123456'), -- 12 chars\r\n",
                "('EMP000039', 'Zoe Saldana', 'zoe.saldana@email.com', 'EMP000019', 'Gamora#789456'),  -- 12 chars\r\n",
                "('EMP000040', 'Alfred Pennyworth', 'alfred.pennyworth@email.com', 'EMP000019', 'Butler@12345'),-- 12 chars\r\n",
                "('EMP000041', 'Bruce Wayne', 'bruce.wayne@email.com', 'EMP000020', 'Batman#456789'),  -- 12 chars\r\n",
                "('EMP000042', 'Clark Kent', 'clark.kent@email.com', 'EMP000020', 'Superman@99999');   -- 12 chars\r\n",
                ""
            ],
            "metadata": {
                "azdata_cell_guid": "b423e6cf-2f11-473e-847a-c3951514a212",
                "language": "sql"
            },
            "outputs": [
                {
                    "output_type": "display_data",
                    "data": {
                        "text/html": "(42 rows affected)"
                    },
                    "metadata": {}
                },
                {
                    "output_type": "display_data",
                    "data": {
                        "text/html": "Total execution time: 00:00:00.008"
                    },
                    "metadata": {}
                }
            ],
            "execution_count": 2
        },
        {
            "cell_type": "code",
            "source": [
                "INSERT INTO Department (Department_Id, Department_Name, Email, Department_Admin_Id)\r\n",
                "VALUES\r\n",
                "('DEP000001', 'HR', 'hr@email.com', 'EMP000001'),\r\n",
                "('DEP000002', 'IT', 'it@email.com', 'EMP000002'),\r\n",
                "('DEP000003', 'Finance', 'finance@email.com', 'EMP000003'),\r\n",
                "('DEP000004', 'Marketing', 'marketing@email.com', 'EMP000004'),\r\n",
                "('DEP000005', 'Sales', 'sales@email.com', 'EMP000005'),\r\n",
                "('DEP000006', 'Support', 'support@email.com', 'EMP000006'),\r\n",
                "('DEP000007', 'Engineering', 'engineering@email.com', 'EMP000007'),\r\n",
                "('DEP000008', 'Logistics', 'logistics@email.com', 'EMP000008'),\r\n",
                "('DEP000009', 'Legal', 'legal@email.com', 'EMP000009'),\r\n",
                "('DEP000010', 'R&D', 'rnd@email.com', 'EMP000010');"
            ],
            "metadata": {
                "azdata_cell_guid": "442361e9-d737-4d24-ba44-07a203ec4170",
                "language": "sql"
            },
            "outputs": [
                {
                    "output_type": "display_data",
                    "data": {
                        "text/html": "(10 rows affected)"
                    },
                    "metadata": {}
                },
                {
                    "output_type": "display_data",
                    "data": {
                        "text/html": "Total execution time: 00:00:00.012"
                    },
                    "metadata": {}
                }
            ],
            "execution_count": 3
        },
        {
            "cell_type": "code",
            "source": [
                "INSERT INTO Ticket (Ticket_Id, Details, Ticket_Status, Ticket_Priority, Requestor_Id, Department_Id)\r\n",
                "VALUES\r\n",
                "('TKT000001', 'Server Issue', 'Backlog', 'High', 'EMP000001', 'DEP000001'),\r\n",
                "('TKT000002', 'Bug Fix', 'InProgress', 'Medium', 'EMP000002', 'DEP000002'),\r\n",
                "('TKT000003', 'Performance Issue', 'Review', 'Low', 'EMP000003', 'DEP000003')"
            ],
            "metadata": {
                "language": "sql",
                "azdata_cell_guid": "19a06e26-a5d0-460d-84cf-105c413f2e3b"
            },
            "outputs": [
                {
                    "output_type": "display_data",
                    "data": {
                        "text/html": "(3 rows affected)"
                    },
                    "metadata": {}
                },
                {
                    "output_type": "display_data",
                    "data": {
                        "text/html": "Total execution time: 00:00:00.011"
                    },
                    "metadata": {}
                }
            ],
            "execution_count": 5
        }
    ]
}