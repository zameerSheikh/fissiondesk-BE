{
    "metadata": {
        "kernelspec": {
            "name": "SQL",
            "display_name": "SQL",
            "language": "sql"
        },
        "language_info": {
            "name": "sql",
            "version": ""
        }
    },
    "nbformat_minor": 2,
    "nbformat": 4,
    "cells": [
        {
            "cell_type": "code",
            "source": [
                "\r\n",
                "CREATE TABLE Employee (\r\n",
                "    Employee_Id  CHAR(9) PRIMARY KEY,\r\n",
                "    Employee_Name VARCHAR(100) NOT NULL,\r\n",
                "    Email VARCHAR(100) NOT NULL,\r\n",
                "    CONSTRAINT email_format CHECK (Email LIKE '%_@__%.__%'),\r\n",
                "    Manager_Id CHAR(9),\r\n",
                "    Login_Password VARCHAR(100) NOT NULL,\r\n",
                "    CONSTRAINT chk_password_length CHECK (LEN(Login_Password) >= 8 AND LEN(Login_Password) <= 20)\r\n",
                ")\r\n",
                "\r\n",
                "CREATE TABLE Department (\r\n",
                "    Department_Id CHAR(9) PRIMARY KEY,\r\n",
                "    Department_Name VARCHAR(100) NOT NULL,\r\n",
                "    Email VARCHAR(100) NOT NULL,\r\n",
                "    CONSTRAINT dep_email_format CHECK (Email LIKE '%_@__%.__%'),\r\n",
                "    Department_Admin_Id CHAR(9),\r\n",
                "    CONSTRAINT fk_department\r\n",
                "        FOREIGN KEY (Department_Admin_Id) REFERENCES Employee(Employee_Id)\r\n",
                "        ON UPDATE CASCADE\r\n",
                "        ON DELETE SET NULL        \r\n",
                ")\r\n",
                "\r\n",
                "CREATE TABLE Ticket (\r\n",
                "    Ticket_Id CHAR(9) PRIMARY KEY,\r\n",
                "    Details Text NOT NULL,\r\n",
                "    Ticket_Status VARCHAR(10) NOT NULL,\r\n",
                "    Ticket_Priority VARCHAR(10) NOT NULL,\r\n",
                "    Requestor_Id CHAR(9) NOT NULL,\r\n",
                "    Department_Id CHAR(9) NOT NULL,\r\n",
                "        CONSTRAINT chk_status CHECK (Ticket_Status IN ('Backlog', 'InProgress', 'Review', 'Completed')),\r\n",
                "        \r\n",
                "        CONSTRAINT chk_priority CHECK (Ticket_Priority IN ('Low', 'Medium', 'High')),\r\n",
                "        \r\n",
                "        CONSTRAINT fk_dep_ticket\r\n",
                "        FOREIGN KEY (Department_Id) REFERENCES Department(Department_Id)\r\n",
                "        ON UPDATE CASCADE\r\n",
                "        ON DELETE CASCADE,\r\n",
                "\r\n",
                "        CONSTRAINT fk_employee\r\n",
                "        FOREIGN KEY (Requestor_Id) REFERENCES Employee(Employee_Id)\r\n",
                "        ON UPDATE NO ACTION\r\n",
                "        ON DELETE NO ACTION\r\n",
                "\r\n",
                ")\r\n",
                "\r\n",
                ""
            ],
            "metadata": {
                "azdata_cell_guid": "943198a4-2651-46a9-ae97-f7c73ada1b2d",
                "language": "sql"
            },
            "outputs": [
                {
                    "output_type": "display_data",
                    "data": {
                        "text/html": "Commands completed successfully."
                    },
                    "metadata": {}
                },
                {
                    "output_type": "display_data",
                    "data": {
                        "text/html": "Total execution time: 00:00:00.005"
                    },
                    "metadata": {}
                }
            ],
            "execution_count": 4
        }
    ]
}